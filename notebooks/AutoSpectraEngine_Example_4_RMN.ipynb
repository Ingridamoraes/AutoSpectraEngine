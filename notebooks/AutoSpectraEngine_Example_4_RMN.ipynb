{
 "cells": [
  {
   "cell_type": "markdown",
   "metadata": {},
   "source": [
    "#"
   ]
  },
  {
   "cell_type": "markdown",
   "metadata": {},
   "source": [
    "## Installing the AutoSpectraEngine Library"
   ]
  },
  {
   "cell_type": "code",
   "execution_count": 1,
   "metadata": {},
   "outputs": [
    {
     "name": "stdout",
     "output_type": "stream",
     "text": [
      "Collecting git+https://github.com/sbarbonjr/AutoSpectraEngine.git\n",
      "  Cloning https://github.com/sbarbonjr/AutoSpectraEngine.git to /tmp/pip-req-build-ndqpz42z\n",
      "  Running command git clone --filter=blob:none --quiet https://github.com/sbarbonjr/AutoSpectraEngine.git /tmp/pip-req-build-ndqpz42z\n",
      "  Resolved https://github.com/sbarbonjr/AutoSpectraEngine.git to commit 05306057f7a5da6203c0e022a19ef4ea6da4a6f9\n",
      "  Installing build dependencies ... \u001b[?25ldone\n",
      "\u001b[?25h  Getting requirements to build wheel ... \u001b[?25ldone\n",
      "\u001b[?25h  Preparing metadata (pyproject.toml) ... \u001b[?25ldone\n",
      "\u001b[?25hRequirement already satisfied: contourpy==1.3.1 in /home/barbon/Python/AutoSpectraEngine/.venv/lib/python3.10/site-packages (from AutoSpectraEngine==0.1) (1.3.1)\n",
      "Requirement already satisfied: cycler==0.12.1 in /home/barbon/Python/AutoSpectraEngine/.venv/lib/python3.10/site-packages (from AutoSpectraEngine==0.1) (0.12.1)\n",
      "Requirement already satisfied: deap==1.4.2 in /home/barbon/Python/AutoSpectraEngine/.venv/lib/python3.10/site-packages (from AutoSpectraEngine==0.1) (1.4.2)\n",
      "Requirement already satisfied: fonttools==4.55.3 in /home/barbon/Python/AutoSpectraEngine/.venv/lib/python3.10/site-packages (from AutoSpectraEngine==0.1) (4.55.3)\n",
      "Requirement already satisfied: joblib==1.4.2 in /home/barbon/Python/AutoSpectraEngine/.venv/lib/python3.10/site-packages (from AutoSpectraEngine==0.1) (1.4.2)\n",
      "Requirement already satisfied: kiwisolver==1.4.8 in /home/barbon/Python/AutoSpectraEngine/.venv/lib/python3.10/site-packages (from AutoSpectraEngine==0.1) (1.4.8)\n",
      "Requirement already satisfied: matplotlib==3.10.0 in /home/barbon/Python/AutoSpectraEngine/.venv/lib/python3.10/site-packages (from AutoSpectraEngine==0.1) (3.10.0)\n",
      "Requirement already satisfied: numpy in /home/barbon/Python/AutoSpectraEngine/.venv/lib/python3.10/site-packages (from AutoSpectraEngine==0.1) (2.1.3)\n",
      "Requirement already satisfied: packaging==24.2 in /home/barbon/Python/AutoSpectraEngine/.venv/lib/python3.10/site-packages (from AutoSpectraEngine==0.1) (24.2)\n",
      "Requirement already satisfied: pandas in /home/barbon/Python/AutoSpectraEngine/.venv/lib/python3.10/site-packages (from AutoSpectraEngine==0.1) (2.2.3)\n",
      "Requirement already satisfied: pillow==11.1.0 in /home/barbon/Python/AutoSpectraEngine/.venv/lib/python3.10/site-packages (from AutoSpectraEngine==0.1) (11.1.0)\n",
      "Requirement already satisfied: pyparsing==3.2.1 in /home/barbon/Python/AutoSpectraEngine/.venv/lib/python3.10/site-packages (from AutoSpectraEngine==0.1) (3.2.1)\n",
      "Requirement already satisfied: pytz==2024.2 in /home/barbon/Python/AutoSpectraEngine/.venv/lib/python3.10/site-packages (from AutoSpectraEngine==0.1) (2024.2)\n",
      "Requirement already satisfied: scikit-learn==1.6.1 in /home/barbon/Python/AutoSpectraEngine/.venv/lib/python3.10/site-packages (from AutoSpectraEngine==0.1) (1.6.1)\n",
      "Requirement already satisfied: scipy in /home/barbon/Python/AutoSpectraEngine/.venv/lib/python3.10/site-packages (from AutoSpectraEngine==0.1) (1.15.1)\n",
      "Requirement already satisfied: seaborn==0.13.2 in /home/barbon/Python/AutoSpectraEngine/.venv/lib/python3.10/site-packages (from AutoSpectraEngine==0.1) (0.13.2)\n",
      "Requirement already satisfied: six==1.17.0 in /home/barbon/Python/AutoSpectraEngine/.venv/lib/python3.10/site-packages (from AutoSpectraEngine==0.1) (1.17.0)\n",
      "Requirement already satisfied: threadpoolctl==3.5.0 in /home/barbon/Python/AutoSpectraEngine/.venv/lib/python3.10/site-packages (from AutoSpectraEngine==0.1) (3.5.0)\n",
      "Requirement already satisfied: tqdm==4.67.1 in /home/barbon/Python/AutoSpectraEngine/.venv/lib/python3.10/site-packages (from AutoSpectraEngine==0.1) (4.67.1)\n",
      "Requirement already satisfied: python-dateutil>=2.7 in /home/barbon/Python/AutoSpectraEngine/.venv/lib/python3.10/site-packages (from matplotlib==3.10.0->AutoSpectraEngine==0.1) (2.9.0.post0)\n",
      "Requirement already satisfied: tzdata>=2022.7 in /home/barbon/Python/AutoSpectraEngine/.venv/lib/python3.10/site-packages (from pandas->AutoSpectraEngine==0.1) (2024.2)\n",
      "Building wheels for collected packages: AutoSpectraEngine\n",
      "  Building wheel for AutoSpectraEngine (pyproject.toml) ... \u001b[?25ldone\n",
      "\u001b[?25h  Created wheel for AutoSpectraEngine: filename=autospectraengine-0.1-py3-none-any.whl size=22704 sha256=e517aee9d56687cd0c230602c35b4dcc0efc0b6727560721fc07f4790f634b17\n",
      "  Stored in directory: /tmp/pip-ephem-wheel-cache-9agxdaa2/wheels/5e/23/6a/7cb0331e4dd2087f7801a5c2f7a84aa0a7b7c3d15f2b06ef3d\n",
      "Successfully built AutoSpectraEngine\n",
      "Installing collected packages: AutoSpectraEngine\n",
      "Successfully installed AutoSpectraEngine-0.1\n",
      "\n",
      "\u001b[1m[\u001b[0m\u001b[34;49mnotice\u001b[0m\u001b[1;39;49m]\u001b[0m\u001b[39;49m A new release of pip is available: \u001b[0m\u001b[31;49m25.0\u001b[0m\u001b[39;49m -> \u001b[0m\u001b[32;49m25.0.1\u001b[0m\n",
      "\u001b[1m[\u001b[0m\u001b[34;49mnotice\u001b[0m\u001b[1;39;49m]\u001b[0m\u001b[39;49m To update, run: \u001b[0m\u001b[32;49mpip install --upgrade pip\u001b[0m\n"
     ]
    }
   ],
   "source": [
    "!pip3 install --no-cache-dir --upgrade git+https://github.com/sbarbonjr/AutoSpectraEngine.git"
   ]
  },
  {
   "cell_type": "markdown",
   "metadata": {},
   "source": [
    "## Loading libraries"
   ]
  },
  {
   "cell_type": "code",
   "execution_count": null,
   "metadata": {},
   "outputs": [],
   "source": [
    "import matplotlib.pyplot as plt\n",
    "import numpy as np\n",
    "import auto_spectra_engine.preprocessing as aseimport icoshift, baseline_als, apply_phase_correction"
   ]
  },
  {
   "cell_type": "markdown",
   "metadata": {},
   "source": [
    "## Generating a spectra"
   ]
  },
  {
   "cell_type": "code",
   "execution_count": 2,
   "metadata": {},
   "outputs": [
    {
     "ename": "NameError",
     "evalue": "name 'np' is not defined",
     "output_type": "error",
     "traceback": [
      "\u001b[0;31m---------------------------------------------------------------------------\u001b[0m",
      "\u001b[0;31mNameError\u001b[0m                                 Traceback (most recent call last)",
      "Cell \u001b[0;32mIn[2], line 18\u001b[0m\n\u001b[1;32m     15\u001b[0m     \u001b[38;5;28;01mreturn\u001b[39;00m distorted\n\u001b[1;32m     17\u001b[0m \u001b[38;5;66;03m# Simulate data\u001b[39;00m\n\u001b[0;32m---> 18\u001b[0m x \u001b[38;5;241m=\u001b[39m \u001b[43mnp\u001b[49m\u001b[38;5;241m.\u001b[39mlinspace(\u001b[38;5;241m0\u001b[39m, \u001b[38;5;241m10\u001b[39m, \u001b[38;5;241m500\u001b[39m)\n\u001b[1;32m     19\u001b[0m shifts \u001b[38;5;241m=\u001b[39m [\u001b[38;5;241m0\u001b[39m, \u001b[38;5;241m0.15\u001b[39m, \u001b[38;5;241m-\u001b[39m\u001b[38;5;241m0.25\u001b[39m, \u001b[38;5;241m0.4\u001b[39m]\n\u001b[1;32m     20\u001b[0m baseline_levels \u001b[38;5;241m=\u001b[39m [\u001b[38;5;241m0.3\u001b[39m, \u001b[38;5;241m0.4\u001b[39m, \u001b[38;5;241m0.5\u001b[39m, \u001b[38;5;241m0.6\u001b[39m]\n",
      "\u001b[0;31mNameError\u001b[0m: name 'np' is not defined"
     ]
    }
   ],
   "source": [
    "def create_complex_spectrum(x, shift=0, baseline_factor=0, phase0=0, phase1=0):\n",
    "    \"\"\"\n",
    "    Create a complex-valued spectrum with simulated baseline and phase distortion.\n",
    "    \"\"\"\n",
    "    # Simulated real peak shape (same as before)\n",
    "    peak = np.exp(-((x - 5 + shift) ** 2) * 10) + 0.8 * np.exp(-((x - 7 + shift) ** 2) * 20)\n",
    "    baseline = baseline_factor * (0.5 * x + np.sin(x))\n",
    "    noise = 0.05 * np.random.randn(len(x))\n",
    "    real_part = peak + baseline + noise\n",
    "    imag_part = 0.05 * np.random.randn(len(x))  # imaginary part (just noise here)\n",
    "    spectrum_complex = real_part + 1j * imag_part\n",
    "\n",
    "    # Apply phase distortion\n",
    "    distorted = apply_phase_correction(spectrum_complex, phase0=phase0, phase1=phase1)\n",
    "    return distorted\n",
    "\n",
    "# Simulate data\n",
    "x = np.linspace(0, 10, 500)\n",
    "shifts = [0, 0.15, -0.25, 0.4]\n",
    "baseline_levels = [0.3, 0.4, 0.5, 0.6]\n",
    "phase0s = [45, 20, -30, 60]  # introduce different phase errors\n",
    "spectra_complex = [\n",
    "    create_complex_spectrum(x, s, b, p0, 0) for s, b, p0 in zip(shifts, baseline_levels, phase0s)\n",
    "]\n",
    "spectra_complex = np.array(spectra_complex)\n"
   ]
  },
  {
   "cell_type": "markdown",
   "metadata": {},
   "source": [
    "1. Phase Correction"
   ]
  },
  {
   "cell_type": "code",
   "execution_count": null,
   "metadata": {},
   "outputs": [],
   "source": [
    "corrected_phase = np.array([\n",
    "    apply_phase_correction(s, phase0=-p)  # correct using inverse of original phase\n",
    "    for s, p in zip(spectra_complex, phase0s)\n",
    "])\n"
   ]
  },
  {
   "cell_type": "markdown",
   "metadata": {},
   "source": [
    "2. Baseline Correction"
   ]
  },
  {
   "cell_type": "code",
   "execution_count": null,
   "metadata": {},
   "outputs": [],
   "source": [
    "corrected_baseline = np.array([s - baseline_als(s) for s in corrected_phase])"
   ]
  },
  {
   "cell_type": "code",
   "execution_count": null,
   "metadata": {},
   "outputs": [],
   "source": [
    "3. Alignment with Icoshift"
   ]
  },
  {
   "cell_type": "markdown",
   "metadata": {},
   "source": [
    "ref_spectrum = corrected_baseline[0]\n",
    "aligned_spectra = icoshift(corrected_baseline, reference=ref_spectrum, intervals=[(0, 500)])\n"
   ]
  },
  {
   "cell_type": "markdown",
   "metadata": {},
   "source": [
    "4. Plotting"
   ]
  },
  {
   "cell_type": "code",
   "execution_count": null,
   "metadata": {},
   "outputs": [],
   "source": [
    "plt.figure(figsize=(16, 12))\n",
    "\n",
    "plt.subplot(4, 1, 1)\n",
    "plt.title(\"Original Spectra with Phase and Baseline Distortion\")\n",
    "for s in spectra_complex:\n",
    "    plt.plot(x, np.real(s))\n",
    "plt.ylabel(\"Intensity\")\n",
    "\n",
    "plt.subplot(4, 1, 2)\n",
    "plt.title(\"After Phase Correction\")\n",
    "for s in corrected_phase:\n",
    "    plt.plot(x, s)\n",
    "plt.ylabel(\"Intensity\")\n",
    "\n",
    "plt.subplot(4, 1, 3)\n",
    "plt.title(\"After Baseline Correction (AsLS)\")\n",
    "for s in corrected_baseline:\n",
    "    plt.plot(x, s)\n",
    "plt.ylabel(\"Intensity\")\n",
    "\n",
    "plt.subplot(4, 1, 4)\n",
    "plt.title(\"After Icoshift Alignment\")\n",
    "for s in aligned_spectra:\n",
    "    plt.plot(x, s)\n",
    "plt.xlabel(\"ppm (simulated axis)\")\n",
    "plt.ylabel(\"Intensity\")\n",
    "\n",
    "plt.tight_layout()\n",
    "plt.show()"
   ]
  }
 ],
 "metadata": {
  "kernelspec": {
   "display_name": ".venv",
   "language": "python",
   "name": "python3"
  },
  "language_info": {
   "codemirror_mode": {
    "name": "ipython",
    "version": 3
   },
   "file_extension": ".py",
   "mimetype": "text/x-python",
   "name": "python",
   "nbconvert_exporter": "python",
   "pygments_lexer": "ipython3",
   "version": "3.10.12"
  }
 },
 "nbformat": 4,
 "nbformat_minor": 2
}
